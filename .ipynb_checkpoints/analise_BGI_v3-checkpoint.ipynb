{
 "cells": [
  {
   "cell_type": "markdown",
   "id": "14c9f0b6-b477-44a2-bab0-7feeaad5a6d5",
   "metadata": {},
   "source": [
    "# Imports"
   ]
  },
  {
   "cell_type": "code",
   "execution_count": 1,
   "id": "d59fbe6e-b367-4863-afc6-35f8205ff7c5",
   "metadata": {},
   "outputs": [],
   "source": [
    "import pandas as pd\n",
    "import yfinance as yf\n",
    "import investpy as iv\n",
    "import seaborn as sns\n",
    "import matplotlib.pyplot as plt\n",
    "\n",
    "from xgboost import XGBRegressor\n",
    "\n",
    "from sklearn.model_selection import train_test_split\n",
    "from sklearn.metrics import mean_absolute_error, mean_absolute_percentage_error, mean_squared_error\n",
    "from sklearn.linear_model import LinearRegression, Lasso, Ridge, ElasticNet\n",
    "from sklearn.preprocessing import MinMaxScaler, StandardScaler\n",
    "from sklearn.model_selection import TimeSeriesSplit, cross_val_score\n",
    "\n",
    "from ta.volatility import BollingerBands\n",
    "from ta.momentum import RSIIndicator\n",
    "from ta.trend import MACD\n",
    "\n",
    "import vectorbt as vbt\n",
    "from vectorbt.portfolio import Orders"
   ]
  },
  {
   "cell_type": "markdown",
   "id": "aeb62376-4465-4e19-9be9-a2f951239ec3",
   "metadata": {},
   "source": [
    "## Download Data"
   ]
  },
  {
   "cell_type": "code",
   "execution_count": 2,
   "id": "20cdcffa-64ce-4187-b4b2-8da876bb56a1",
   "metadata": {},
   "outputs": [],
   "source": [
    "boi = pd.read_excel('/home/edilson07/projects/boi_gordo/data/boi_gordo.xlsx', index_col='Data').sort_index(ascending=True)"
   ]
  },
  {
   "cell_type": "markdown",
   "id": "d0f43c89-9249-4c8e-9fb2-bf197b3f7102",
   "metadata": {},
   "source": [
    "## Feature Engineering"
   ]
  },
  {
   "cell_type": "code",
   "execution_count": 3,
   "id": "c8657d4f-c76b-4b25-98af-8f32bf7c979c",
   "metadata": {},
   "outputs": [
    {
     "data": {
      "text/html": [
       "<div>\n",
       "<style scoped>\n",
       "    .dataframe tbody tr th:only-of-type {\n",
       "        vertical-align: middle;\n",
       "    }\n",
       "\n",
       "    .dataframe tbody tr th {\n",
       "        vertical-align: top;\n",
       "    }\n",
       "\n",
       "    .dataframe thead th {\n",
       "        text-align: right;\n",
       "    }\n",
       "</style>\n",
       "<table border=\"1\" class=\"dataframe\">\n",
       "  <thead>\n",
       "    <tr style=\"text-align: right;\">\n",
       "      <th></th>\n",
       "      <th>Abertura</th>\n",
       "      <th>Máxima</th>\n",
       "      <th>Mínima</th>\n",
       "      <th>Fechamento</th>\n",
       "    </tr>\n",
       "    <tr>\n",
       "      <th>Data</th>\n",
       "      <th></th>\n",
       "      <th></th>\n",
       "      <th></th>\n",
       "      <th></th>\n",
       "    </tr>\n",
       "  </thead>\n",
       "  <tbody>\n",
       "    <tr>\n",
       "      <th>2003-01-02</th>\n",
       "      <td>62.13</td>\n",
       "      <td>62.13</td>\n",
       "      <td>62.08</td>\n",
       "      <td>62.13</td>\n",
       "    </tr>\n",
       "    <tr>\n",
       "      <th>2003-01-03</th>\n",
       "      <td>62.13</td>\n",
       "      <td>62.13</td>\n",
       "      <td>61.80</td>\n",
       "      <td>61.80</td>\n",
       "    </tr>\n",
       "    <tr>\n",
       "      <th>2003-01-06</th>\n",
       "      <td>61.69</td>\n",
       "      <td>61.97</td>\n",
       "      <td>61.53</td>\n",
       "      <td>61.97</td>\n",
       "    </tr>\n",
       "    <tr>\n",
       "      <th>2003-01-07</th>\n",
       "      <td>62.02</td>\n",
       "      <td>62.33</td>\n",
       "      <td>61.91</td>\n",
       "      <td>62.20</td>\n",
       "    </tr>\n",
       "    <tr>\n",
       "      <th>2003-01-08</th>\n",
       "      <td>62.24</td>\n",
       "      <td>62.24</td>\n",
       "      <td>61.69</td>\n",
       "      <td>61.69</td>\n",
       "    </tr>\n",
       "  </tbody>\n",
       "</table>\n",
       "</div>"
      ],
      "text/plain": [
       "            Abertura  Máxima  Mínima  Fechamento\n",
       "Data                                            \n",
       "2003-01-02     62.13   62.13   62.08       62.13\n",
       "2003-01-03     62.13   62.13   61.80       61.80\n",
       "2003-01-06     61.69   61.97   61.53       61.97\n",
       "2003-01-07     62.02   62.33   61.91       62.20\n",
       "2003-01-08     62.24   62.24   61.69       61.69"
      ]
     },
     "execution_count": 3,
     "metadata": {},
     "output_type": "execute_result"
    }
   ],
   "source": [
    "boi.head()"
   ]
  },
  {
   "cell_type": "markdown",
   "id": "e7335400-2e05-45ab-b1f3-274e1706e531",
   "metadata": {},
   "source": [
    "## Returns"
   ]
  },
  {
   "cell_type": "code",
   "execution_count": 4,
   "id": "dfba0203-4f7b-4116-b0d1-435cee1a1d07",
   "metadata": {},
   "outputs": [],
   "source": [
    "boi['Return'] = boi['Fechamento'].pct_change()"
   ]
  },
  {
   "cell_type": "markdown",
   "id": "93d2e9f4-5cf2-409f-88f8-d4da28ffcb2e",
   "metadata": {},
   "source": [
    "## Indicadores"
   ]
  },
  {
   "cell_type": "code",
   "execution_count": 6,
   "id": "bf373bd5-09da-4acd-a36e-7f72ee0ddfad",
   "metadata": {},
   "outputs": [],
   "source": [
    "# Médias Móveis\n",
    "boi['MediaMovelCurto'] = boi['Fechamento'].rolling(window=13).mean()\n",
    "boi['MediaMovelMedio'] = boi['Fechamento'].rolling(window=50).mean()\n",
    "boi['MediaMovelLongo'] = boi['Fechamento'].rolling(window=200).mean()\n",
    "\n",
    "# Bandas de Bollinger\n",
    "bb = BollingerBands(close=boi['Fechamento'], window=20, window_dev=2)\n",
    "boi['Bollinger_H'] = bb.bollinger_hband()\n",
    "boi['Bollinger_L'] = bb.bollinger_lband()\n",
    "\n",
    "# RSI\n",
    "rsi_ind = RSIIndicator(close=boi['Fechamento'])\n",
    "boi['RSI'] = rsi_ind.rsi()\n",
    "\n",
    "# MACD\n",
    "macd_int = MACD(close=boi['Fechamento'])\n",
    "boi['MACD_Line'] = macd_int.macd()\n",
    "boi['MACD_Diff'] = macd_int.macd_diff()\n",
    "boi['MACD_Signal'] = macd_int.macd_signal()\n",
    "\n",
    "\n",
    "boi.dropna(inplace=True)"
   ]
  },
  {
   "cell_type": "markdown",
   "id": "a032f9d0-7497-4228-ba3f-15bf8522f58f",
   "metadata": {},
   "source": [
    "## Sazonalidade"
   ]
  },
  {
   "cell_type": "code",
   "execution_count": 8,
   "id": "b70a1002-9775-4327-a4da-a0561ed4f64f",
   "metadata": {},
   "outputs": [],
   "source": [
    "# Sazonalidade\n",
    "boi['Mes'] = boi.index.month\n",
    "boi['Estacao'] = boi.index.quarter"
   ]
  },
  {
   "cell_type": "markdown",
   "id": "33bdd559-5801-4cff-90e1-4b0890273854",
   "metadata": {},
   "source": [
    "## Lag 1 one day"
   ]
  },
  {
   "cell_type": "code",
   "execution_count": 9,
   "id": "1a4f361d-45be-4022-b364-8ebb303ef7c7",
   "metadata": {},
   "outputs": [],
   "source": [
    "boi['Lagged_Close'] = boi['Fechamento'].shift(-2)"
   ]
  },
  {
   "cell_type": "code",
   "execution_count": 13,
   "id": "2468cd46-8af9-4df0-ada4-34826ef03700",
   "metadata": {},
   "outputs": [
    {
     "data": {
      "text/html": [
       "<div>\n",
       "<style scoped>\n",
       "    .dataframe tbody tr th:only-of-type {\n",
       "        vertical-align: middle;\n",
       "    }\n",
       "\n",
       "    .dataframe tbody tr th {\n",
       "        vertical-align: top;\n",
       "    }\n",
       "\n",
       "    .dataframe thead th {\n",
       "        text-align: right;\n",
       "    }\n",
       "</style>\n",
       "<table border=\"1\" class=\"dataframe\">\n",
       "  <thead>\n",
       "    <tr style=\"text-align: right;\">\n",
       "      <th></th>\n",
       "      <th>Abertura</th>\n",
       "      <th>Máxima</th>\n",
       "      <th>Mínima</th>\n",
       "      <th>Fechamento</th>\n",
       "      <th>Return</th>\n",
       "      <th>MediaMovelCurto</th>\n",
       "      <th>MediaMovelMedio</th>\n",
       "      <th>MediaMovelLongo</th>\n",
       "      <th>Bollinger_H</th>\n",
       "      <th>Bollinger_L</th>\n",
       "      <th>RSI</th>\n",
       "      <th>MACD_Line</th>\n",
       "      <th>MACD_Diff</th>\n",
       "      <th>MACD_Signal</th>\n",
       "      <th>Mes</th>\n",
       "      <th>Estacao</th>\n",
       "      <th>Lagged_Close</th>\n",
       "    </tr>\n",
       "    <tr>\n",
       "      <th>Data</th>\n",
       "      <th></th>\n",
       "      <th></th>\n",
       "      <th></th>\n",
       "      <th></th>\n",
       "      <th></th>\n",
       "      <th></th>\n",
       "      <th></th>\n",
       "      <th></th>\n",
       "      <th></th>\n",
       "      <th></th>\n",
       "      <th></th>\n",
       "      <th></th>\n",
       "      <th></th>\n",
       "      <th></th>\n",
       "      <th></th>\n",
       "      <th></th>\n",
       "      <th></th>\n",
       "    </tr>\n",
       "  </thead>\n",
       "  <tbody>\n",
       "    <tr>\n",
       "      <th>2003-10-21</th>\n",
       "      <td>61.96</td>\n",
       "      <td>62.06</td>\n",
       "      <td>61.91</td>\n",
       "      <td>61.93</td>\n",
       "      <td>-0.000484</td>\n",
       "      <td>62.474615</td>\n",
       "      <td>63.8264</td>\n",
       "      <td>63.70065</td>\n",
       "      <td>63.850881</td>\n",
       "      <td>61.675119</td>\n",
       "      <td>26.029026</td>\n",
       "      <td>-0.516417</td>\n",
       "      <td>-0.041780</td>\n",
       "      <td>-0.474637</td>\n",
       "      <td>10</td>\n",
       "      <td>4</td>\n",
       "      <td>61.78</td>\n",
       "    </tr>\n",
       "    <tr>\n",
       "      <th>2003-10-22</th>\n",
       "      <td>61.91</td>\n",
       "      <td>61.91</td>\n",
       "      <td>61.61</td>\n",
       "      <td>61.62</td>\n",
       "      <td>-0.005006</td>\n",
       "      <td>62.346923</td>\n",
       "      <td>63.7796</td>\n",
       "      <td>63.69810</td>\n",
       "      <td>63.838294</td>\n",
       "      <td>61.515706</td>\n",
       "      <td>22.678640</td>\n",
       "      <td>-0.539577</td>\n",
       "      <td>-0.051952</td>\n",
       "      <td>-0.487625</td>\n",
       "      <td>10</td>\n",
       "      <td>4</td>\n",
       "      <td>61.81</td>\n",
       "    </tr>\n",
       "    <tr>\n",
       "      <th>2003-10-23</th>\n",
       "      <td>61.70</td>\n",
       "      <td>61.81</td>\n",
       "      <td>61.60</td>\n",
       "      <td>61.78</td>\n",
       "      <td>0.002597</td>\n",
       "      <td>62.230000</td>\n",
       "      <td>63.7322</td>\n",
       "      <td>63.69800</td>\n",
       "      <td>63.800751</td>\n",
       "      <td>61.409249</td>\n",
       "      <td>27.841245</td>\n",
       "      <td>-0.538809</td>\n",
       "      <td>-0.040948</td>\n",
       "      <td>-0.497862</td>\n",
       "      <td>10</td>\n",
       "      <td>4</td>\n",
       "      <td>61.81</td>\n",
       "    </tr>\n",
       "    <tr>\n",
       "      <th>2003-10-24</th>\n",
       "      <td>61.70</td>\n",
       "      <td>61.86</td>\n",
       "      <td>61.70</td>\n",
       "      <td>61.81</td>\n",
       "      <td>0.000486</td>\n",
       "      <td>62.134615</td>\n",
       "      <td>63.6856</td>\n",
       "      <td>63.69720</td>\n",
       "      <td>63.736408</td>\n",
       "      <td>61.328592</td>\n",
       "      <td>28.801150</td>\n",
       "      <td>-0.529675</td>\n",
       "      <td>-0.025451</td>\n",
       "      <td>-0.504224</td>\n",
       "      <td>10</td>\n",
       "      <td>4</td>\n",
       "      <td>61.74</td>\n",
       "    </tr>\n",
       "    <tr>\n",
       "      <th>2003-10-27</th>\n",
       "      <td>61.81</td>\n",
       "      <td>61.96</td>\n",
       "      <td>61.81</td>\n",
       "      <td>61.81</td>\n",
       "      <td>0.000000</td>\n",
       "      <td>62.063077</td>\n",
       "      <td>63.6402</td>\n",
       "      <td>63.69525</td>\n",
       "      <td>63.654538</td>\n",
       "      <td>61.265462</td>\n",
       "      <td>28.801150</td>\n",
       "      <td>-0.516482</td>\n",
       "      <td>-0.009806</td>\n",
       "      <td>-0.506676</td>\n",
       "      <td>10</td>\n",
       "      <td>4</td>\n",
       "      <td>61.82</td>\n",
       "    </tr>\n",
       "  </tbody>\n",
       "</table>\n",
       "</div>"
      ],
      "text/plain": [
       "            Abertura  Máxima  Mínima  Fechamento    Return  MediaMovelCurto  \\\n",
       "Data                                                                          \n",
       "2003-10-21     61.96   62.06   61.91       61.93 -0.000484        62.474615   \n",
       "2003-10-22     61.91   61.91   61.61       61.62 -0.005006        62.346923   \n",
       "2003-10-23     61.70   61.81   61.60       61.78  0.002597        62.230000   \n",
       "2003-10-24     61.70   61.86   61.70       61.81  0.000486        62.134615   \n",
       "2003-10-27     61.81   61.96   61.81       61.81  0.000000        62.063077   \n",
       "\n",
       "            MediaMovelMedio  MediaMovelLongo  Bollinger_H  Bollinger_L  \\\n",
       "Data                                                                     \n",
       "2003-10-21          63.8264         63.70065    63.850881    61.675119   \n",
       "2003-10-22          63.7796         63.69810    63.838294    61.515706   \n",
       "2003-10-23          63.7322         63.69800    63.800751    61.409249   \n",
       "2003-10-24          63.6856         63.69720    63.736408    61.328592   \n",
       "2003-10-27          63.6402         63.69525    63.654538    61.265462   \n",
       "\n",
       "                  RSI  MACD_Line  MACD_Diff  MACD_Signal  Mes  Estacao  \\\n",
       "Data                                                                     \n",
       "2003-10-21  26.029026  -0.516417  -0.041780    -0.474637   10        4   \n",
       "2003-10-22  22.678640  -0.539577  -0.051952    -0.487625   10        4   \n",
       "2003-10-23  27.841245  -0.538809  -0.040948    -0.497862   10        4   \n",
       "2003-10-24  28.801150  -0.529675  -0.025451    -0.504224   10        4   \n",
       "2003-10-27  28.801150  -0.516482  -0.009806    -0.506676   10        4   \n",
       "\n",
       "            Lagged_Close  \n",
       "Data                      \n",
       "2003-10-21         61.78  \n",
       "2003-10-22         61.81  \n",
       "2003-10-23         61.81  \n",
       "2003-10-24         61.74  \n",
       "2003-10-27         61.82  "
      ]
     },
     "execution_count": 13,
     "metadata": {},
     "output_type": "execute_result"
    }
   ],
   "source": [
    "boi.head()"
   ]
  },
  {
   "cell_type": "code",
   "execution_count": 11,
   "id": "8d69f8bd-574f-4c49-adba-6f6d44d8f707",
   "metadata": {},
   "outputs": [],
   "source": [
    "boi = boi.fillna(0)"
   ]
  },
  {
   "cell_type": "code",
   "execution_count": 12,
   "id": "a28cc819-ab5a-466c-89d0-54cae5339358",
   "metadata": {},
   "outputs": [
    {
     "data": {
      "text/plain": [
       "Index(['Abertura', 'Máxima', 'Mínima', 'Fechamento', 'Return',\n",
       "       'MediaMovelCurto', 'MediaMovelMedio', 'MediaMovelLongo', 'Bollinger_H',\n",
       "       'Bollinger_L', 'RSI', 'MACD_Line', 'MACD_Diff', 'MACD_Signal', 'Mes',\n",
       "       'Estacao', 'Lagged_Close'],\n",
       "      dtype='object')"
      ]
     },
     "execution_count": 12,
     "metadata": {},
     "output_type": "execute_result"
    }
   ],
   "source": [
    "boi.columns"
   ]
  },
  {
   "cell_type": "markdown",
   "id": "b62e5c73-79a1-4bf5-bafc-24a6db5c0794",
   "metadata": {},
   "source": [
    "## Pre-Processing"
   ]
  },
  {
   "cell_type": "code",
   "execution_count": 15,
   "id": "1468c37a-5d61-4c47-bde7-dead50791b81",
   "metadata": {},
   "outputs": [],
   "source": [
    "#pp_data = boi.drop(['Abertura','Máxima','Mínima'], axis=1)"
   ]
  },
  {
   "cell_type": "code",
   "execution_count": 16,
   "id": "eba67981-f714-4d66-aeb5-d96a51f97f6d",
   "metadata": {},
   "outputs": [],
   "source": [
    "#pp_data.columns"
   ]
  },
  {
   "cell_type": "code",
   "execution_count": 14,
   "id": "c4f5de89-ec0c-45a5-8db8-f0b9ae765f11",
   "metadata": {},
   "outputs": [],
   "source": [
    "data = boi.copy()\n",
    "cols_mms = ['Abertura', 'Máxima', 'Mínima', 'Return',\n",
    "       'MediaMovelCurto', 'MediaMovelMedio', 'MediaMovelLongo', 'Bollinger_H',\n",
    "       'Bollinger_L', 'RSI', 'MACD_Line', 'MACD_Diff', 'MACD_Signal']\n",
    "\n",
    "mms = MinMaxScaler()\n",
    "\n",
    "data[cols_mms] = mms.fit_transform(boi[cols_mms])"
   ]
  },
  {
   "cell_type": "markdown",
   "id": "2b256e11-5ccf-48a9-b9f0-e0b0dde40218",
   "metadata": {},
   "source": [
    "## Train-test Split"
   ]
  },
  {
   "cell_type": "code",
   "execution_count": 15,
   "id": "e9fc9d91-3e4a-4fef-9a94-3267efe68fad",
   "metadata": {},
   "outputs": [],
   "source": [
    "X = data.drop(['Lagged_Close','Fechamento', 'Abertura','Máxima','Mínima'], axis=1)\n",
    "y = data[['Lagged_Close','Fechamento']]\n",
    "\n",
    "mask_train = X.index < '2021-01-01'\n",
    "mask_test = X.index >= '2021-01-01'\n",
    "\n",
    "\n",
    "X_train = X[mask_train]\n",
    "y_train = y.loc[mask_train,'Lagged_Close']\n",
    "\n",
    "X_test = X[mask_test]\n",
    "y_test = y.loc[mask_test, 'Fechamento']"
   ]
  },
  {
   "cell_type": "markdown",
   "id": "f3507860-bf3f-46b9-a145-2a92bac0ef1b",
   "metadata": {},
   "source": [
    "## Linear Regression"
   ]
  },
  {
   "cell_type": "code",
   "execution_count": 16,
   "id": "a11a98e8-2bf4-4e4b-84a5-1bc1b7c6754e",
   "metadata": {},
   "outputs": [],
   "source": [
    "lr = LinearRegression()\n",
    "\n",
    "lr.fit(X_train, y_train)\n",
    "\n",
    "y_pred = lr.predict(X_test)"
   ]
  },
  {
   "cell_type": "code",
   "execution_count": 17,
   "id": "beeb6044-9a20-4d25-86db-0a9ed0ccac91",
   "metadata": {},
   "outputs": [
    {
     "name": "stdout",
     "output_type": "stream",
     "text": [
      "MAE: 1.5655588240095502\n",
      "MAPE: 0.005347660723912457\n",
      "RMSE: 1.9764348033552501\n",
      "MSE: 3.9062945319139066\n"
     ]
    }
   ],
   "source": [
    "print(f'MAE: {mean_absolute_error(y_pred, y_test)}')\n",
    "print(f'MAPE: {mean_absolute_percentage_error(y_pred, y_test)}')\n",
    "print(f'RMSE: {mean_squared_error(y_pred, y_test, squared=False)}')\n",
    "print(f'MSE: {mean_squared_error(y_pred, y_test)}')"
   ]
  },
  {
   "cell_type": "code",
   "execution_count": 18,
   "id": "d46e1229-17c3-4d57-ad20-712fec9726c9",
   "metadata": {},
   "outputs": [],
   "source": [
    "y_pred = pd.DataFrame(y_pred, index=y_test.index, columns=['Fechamento_Predito'])"
   ]
  },
  {
   "cell_type": "code",
   "execution_count": 19,
   "id": "0433bc7d-1267-4068-b790-d890f3f5cbd4",
   "metadata": {},
   "outputs": [
    {
     "data": {
      "image/png": "[encoded data removed]",
      "text/plain": [
       "<Figure size 640x480 with 1 Axes>"
      ]
     },
     "metadata": {},
     "output_type": "display_data"
    }
   ],
   "source": [
    "# Plote os resultados\n",
    "plt.scatter(X_test.index, y_test, color='black', label='Dados reais')\n",
    "plt.plot(X_test.index, y_pred, color='blue', linewidth=3, label='Modelo de Regressão Linear')\n",
    "plt.title('Regressão Linear - Dados Reais vs. Previsões')\n",
    "plt.xlabel('Variável Independente')\n",
    "plt.ylabel('Variável Dependente')\n",
    "plt.legend()\n",
    "plt.show()"
   ]
  },
  {
   "cell_type": "code",
   "execution_count": 20,
   "id": "a1d3490b-fa55-4981-a8b2-1f71ec886fdd",
   "metadata": {},
   "outputs": [
    {
     "name": "stdout",
     "output_type": "stream",
     "text": [
      "Coeficientes: [ 1.47024508e+01  2.47241327e+02 -1.89953947e+02 -1.41296634e+01\n",
      "  1.39674731e+02  1.24937838e+02  9.11986414e-01 -1.26149274e+00\n",
      "  6.02057579e+01 -2.60104626e+01 -4.65810801e-02  2.26878817e-01]\n",
      "Intercepto: 20.869500204046574\n",
      "Equação da Regressão Linear: y = 20.87 + 14.70x1 + 247.24x2 + ...\n"
     ]
    }
   ],
   "source": [
    "# Obtenha os coeficientes do modelo\n",
    "coeficientes = lr.coef_\n",
    "intercepto = lr.intercept_\n",
    "\n",
    "# Imprima os coeficientes e o intercepto\n",
    "print(f\"Coeficientes: {coeficientes}\")\n",
    "print(f\"Intercepto: {intercepto}\")\n",
    "\n",
    "# Imprima a equação da regressão linear\n",
    "equacao_regressao = f\"y = {intercepto:.2f} + {coeficientes[0]:.2f}x1 + {coeficientes[1]:.2f}x2 + ...\"\n",
    "print(f\"Equação da Regressão Linear: {equacao_regressao}\")"
   ]
  },
  {
   "cell_type": "code",
   "execution_count": 21,
   "id": "10bab0b3-6928-4481-bbdd-bca01161e309",
   "metadata": {},
   "outputs": [
    {
     "data": {
      "image/png": "[encoded data removed]",
      "text/plain": [
       "<Figure size 1000x600 with 1 Axes>"
      ]
     },
     "metadata": {},
     "output_type": "display_data"
    }
   ],
   "source": [
    "import matplotlib.pyplot as plt\n",
    "import numpy as np\n",
    "\n",
    "# Coeficientes do modelo de regressão linear\n",
    "coeficientes = lr.coef_\n",
    "\n",
    "# Nomes das features\n",
    "nomes_features = X_train.columns\n",
    "\n",
    "# Crie um gráfico de barras horizontais\n",
    "plt.figure(figsize=(10, 6))\n",
    "plt.barh(nomes_features, coeficientes)\n",
    "\n",
    "# Adicione rótulos e título\n",
    "plt.xlabel('Coeficiente')\n",
    "plt.ylabel('Feature')\n",
    "plt.title('Importância das Features na Regressão Linear')\n",
    "\n",
    "# Exiba o gráfico\n",
    "plt.show()\n"
   ]
  },
  {
   "cell_type": "code",
   "execution_count": 22,
   "id": "fcc1ed79-3187-497f-9cb2-6109b94f8066",
   "metadata": {},
   "outputs": [
    {
     "data": {
      "text/plain": [
       "Data\n",
       "2021-01-04    277.15\n",
       "2021-01-05    277.95\n",
       "2021-01-06    277.50\n",
       "2021-01-07    279.85\n",
       "2021-01-08    282.30\n",
       "               ...  \n",
       "2023-12-04    248.90\n",
       "2023-12-05    250.70\n",
       "2023-12-06    250.85\n",
       "2023-12-07    248.55\n",
       "2023-12-08    247.15\n",
       "Name: Fechamento, Length: 732, dtype: float64"
      ]
     },
     "execution_count": 22,
     "metadata": {},
     "output_type": "execute_result"
    }
   ],
   "source": [
    "y_test"
   ]
  },
  {
   "cell_type": "code",
   "execution_count": 23,
   "id": "d900bb0c-316d-40f7-afef-3a9a8b76135a",
   "metadata": {},
   "outputs": [
    {
     "data": {
      "text/html": [
       "<div>\n",
       "<style scoped>\n",
       "    .dataframe tbody tr th:only-of-type {\n",
       "        vertical-align: middle;\n",
       "    }\n",
       "\n",
       "    .dataframe tbody tr th {\n",
       "        vertical-align: top;\n",
       "    }\n",
       "\n",
       "    .dataframe thead th {\n",
       "        text-align: right;\n",
       "    }\n",
       "</style>\n",
       "<table border=\"1\" class=\"dataframe\">\n",
       "  <thead>\n",
       "    <tr style=\"text-align: right;\">\n",
       "      <th></th>\n",
       "      <th>Fechamento_Predito</th>\n",
       "    </tr>\n",
       "    <tr>\n",
       "      <th>Data</th>\n",
       "      <th></th>\n",
       "    </tr>\n",
       "  </thead>\n",
       "  <tbody>\n",
       "    <tr>\n",
       "      <th>2021-01-04</th>\n",
       "      <td>279.000984</td>\n",
       "    </tr>\n",
       "    <tr>\n",
       "      <th>2021-01-05</th>\n",
       "      <td>280.322688</td>\n",
       "    </tr>\n",
       "    <tr>\n",
       "      <th>2021-01-06</th>\n",
       "      <td>280.716181</td>\n",
       "    </tr>\n",
       "    <tr>\n",
       "      <th>2021-01-07</th>\n",
       "      <td>282.643652</td>\n",
       "    </tr>\n",
       "    <tr>\n",
       "      <th>2021-01-08</th>\n",
       "      <td>284.485299</td>\n",
       "    </tr>\n",
       "    <tr>\n",
       "      <th>...</th>\n",
       "      <td>...</td>\n",
       "    </tr>\n",
       "    <tr>\n",
       "      <th>2023-12-04</th>\n",
       "      <td>247.811795</td>\n",
       "    </tr>\n",
       "    <tr>\n",
       "      <th>2023-12-05</th>\n",
       "      <td>249.425114</td>\n",
       "    </tr>\n",
       "    <tr>\n",
       "      <th>2023-12-06</th>\n",
       "      <td>249.463399</td>\n",
       "    </tr>\n",
       "    <tr>\n",
       "      <th>2023-12-07</th>\n",
       "      <td>247.735352</td>\n",
       "    </tr>\n",
       "    <tr>\n",
       "      <th>2023-12-08</th>\n",
       "      <td>246.707682</td>\n",
       "    </tr>\n",
       "  </tbody>\n",
       "</table>\n",
       "<p>732 rows × 1 columns</p>\n",
       "</div>"
      ],
      "text/plain": [
       "            Fechamento_Predito\n",
       "Data                          \n",
       "2021-01-04          279.000984\n",
       "2021-01-05          280.322688\n",
       "2021-01-06          280.716181\n",
       "2021-01-07          282.643652\n",
       "2021-01-08          284.485299\n",
       "...                        ...\n",
       "2023-12-04          247.811795\n",
       "2023-12-05          249.425114\n",
       "2023-12-06          249.463399\n",
       "2023-12-07          247.735352\n",
       "2023-12-08          246.707682\n",
       "\n",
       "[732 rows x 1 columns]"
      ]
     },
     "execution_count": 23,
     "metadata": {},
     "output_type": "execute_result"
    }
   ],
   "source": [
    "y_pred"
   ]
  },
  {
   "cell_type": "markdown",
   "id": "e6d01848-7bb7-473b-b36c-3d2df1bd436a",
   "metadata": {},
   "source": [
    "## Cross Validation"
   ]
  },
  {
   "cell_type": "code",
   "execution_count": 24,
   "id": "d7e5c4dd-8775-4da3-9996-85a28a89c735",
   "metadata": {},
   "outputs": [
    {
     "name": "stdout",
     "output_type": "stream",
     "text": [
      "Resultados da validação cruzada: [ -1.77617064  -1.7459579   -1.79608138  -9.0755093  -27.92369441]\n",
      "Média dos resultados: -8.463482726900887\n"
     ]
    }
   ],
   "source": [
    "n_splits = 5\n",
    "\n",
    "tscv = TimeSeriesSplit(n_splits=n_splits)\n",
    "\n",
    "model = LinearRegression()\n",
    "\n",
    "cv_results = cross_val_score(model, X[:-2], y['Lagged_Close'][:-2], cv=tscv, scoring='neg_mean_squared_error')\n",
    "\n",
    "print(\"Resultados da validação cruzada:\", cv_results)\n",
    "print(\"Média dos resultados:\", cv_results.mean())"
   ]
  },
  {
   "cell_type": "markdown",
   "id": "9bb24a60-1233-4e48-afea-e8fdcfde3c59",
   "metadata": {},
   "source": [
    "## Predict Everything"
   ]
  },
  {
   "cell_type": "code",
   "execution_count": 25,
   "id": "48726b00-a14e-4238-8d7d-07811cade25a",
   "metadata": {},
   "outputs": [],
   "source": [
    "y_pred_full = lr.predict(X)"
   ]
  },
  {
   "cell_type": "markdown",
   "id": "b7ef7cc1-f429-4b10-9397-d97601f395e4",
   "metadata": {},
   "source": [
    "## Backtest"
   ]
  },
  {
   "cell_type": "code",
   "execution_count": 26,
   "id": "ea013729-4b05-493d-8170-8481c4285b15",
   "metadata": {},
   "outputs": [],
   "source": [
    "df_bt = boi.copy()\n",
    "\n",
    "df_bt['Predicted'] = y_pred_full\n",
    "\n",
    "# Converta o índice para o formato datetime se ainda não estiver\n",
    "df_bt.index = pd.to_datetime(df_bt.index)"
   ]
  },
  {
   "cell_type": "code",
   "execution_count": 27,
   "id": "237e60ff-8346-437f-92ca-add89feab388",
   "metadata": {},
   "outputs": [],
   "source": [
    "# Adicione uma coluna 'Signal' que representa os sinais de compra (+1), venda (-1), curta (-1) e cobertura (+1)\n",
    "\n",
    "df_bt['Signal'] = 0  # inicializa todos os sinais como 0\n",
    "df_bt.loc[df_bt['Signal'] == 0, 'Signal'] = np.where(df_bt['Predicted'] > df_bt['Fechamento'], 1, -1)\n",
    "# Crie uma coluna 'Position' no DataFrame para armazenar as posições\n",
    "df_bt['Position'] = 0\n",
    "df_bt.dropna(inplace=True)        "
   ]
  },
  {
   "cell_type": "code",
   "execution_count": 28,
   "id": "01df07b8-0137-42a0-8eeb-bd494f38b90e",
   "metadata": {},
   "outputs": [
    {
     "ename": "AttributeError",
     "evalue": "module 'vectorbt.signals' has no attribute 'first_choice'",
     "output_type": "error",
     "traceback": [
      "\u001b[0;31m---------------------------------------------------------------------------\u001b[0m",
      "\u001b[0;31mAttributeError\u001b[0m                            Traceback (most recent call last)",
      "Cell \u001b[0;32mIn[28], line 2\u001b[0m\n\u001b[1;32m      1\u001b[0m \u001b[38;5;66;03m# Implemente as regras do backtest\u001b[39;00m\n\u001b[0;32m----> 2\u001b[0m df_bt[\u001b[38;5;124m'\u001b[39m\u001b[38;5;124mPosition\u001b[39m\u001b[38;5;124m'\u001b[39m] \u001b[38;5;241m=\u001b[39m \u001b[43mvbt\u001b[49m\u001b[38;5;241;43m.\u001b[39;49m\u001b[43msignals\u001b[49m\u001b[38;5;241;43m.\u001b[39;49m\u001b[43mfirst_choice\u001b[49m(df_bt[\u001b[38;5;124m'\u001b[39m\u001b[38;5;124mSignals\u001b[39m\u001b[38;5;124m'\u001b[39m], first_choice\u001b[38;5;241m=\u001b[39m\u001b[38;5;241m1\u001b[39m, choices\u001b[38;5;241m=\u001b[39m[\u001b[38;5;241m-\u001b[39m\u001b[38;5;241m1\u001b[39m, \u001b[38;5;241m0\u001b[39m], wait\u001b[38;5;241m=\u001b[39m\u001b[38;5;241m0\u001b[39m)\n\u001b[1;32m      4\u001b[0m \u001b[38;5;66;03m# Execute o backtest\u001b[39;00m\n\u001b[1;32m      5\u001b[0m portfolio \u001b[38;5;241m=\u001b[39m vbt\u001b[38;5;241m.\u001b[39mPortfolio\u001b[38;5;241m.\u001b[39mfrom_signals(df_bt[\u001b[38;5;124m'\u001b[39m\u001b[38;5;124mSignals\u001b[39m\u001b[38;5;124m'\u001b[39m], price\u001b[38;5;241m=\u001b[39mdf_bt[\u001b[38;5;124m'\u001b[39m\u001b[38;5;124mSignals\u001b[39m\u001b[38;5;124m'\u001b[39m], freq\u001b[38;5;241m=\u001b[39m\u001b[38;5;124m'\u001b[39m\u001b[38;5;124md\u001b[39m\u001b[38;5;124m'\u001b[39m, cash_sharing\u001b[38;5;241m=\u001b[39m\u001b[38;5;28;01mTrue\u001b[39;00m)\n",
      "\u001b[0;31mAttributeError\u001b[0m: module 'vectorbt.signals' has no attribute 'first_choice'"
     ]
    }
   ],
   "source": [
    "# Implemente as regras do backtest\n",
    "df_bt['Position'] = vbt.signals.first_choice(df_bt['Signals'], first_choice=1, choices=[-1, 0], wait=0)\n",
    "\n",
    "# Execute o backtest\n",
    "portfolio = vbt.Portfolio.from_signals(df_bt['Signals'], price=df_bt['Signals'], freq='d', cash_sharing=True)\n",
    "portfolio = portfolio.apply_mask(df_bt['Position'].values)\n",
    "\n",
    "# Resultados do backtest\n",
    "print(portfolio.stats())"
   ]
  },
  {
   "cell_type": "code",
   "execution_count": null,
   "id": "3eed6ba6-1469-49c8-bc0f-d6cd59679cc3",
   "metadata": {},
   "outputs": [],
   "source": []
  },
  {
   "cell_type": "code",
   "execution_count": null,
   "id": "5327bdbe-7f28-42ab-8d19-36e6370f6fdb",
   "metadata": {},
   "outputs": [],
   "source": []
  },
  {
   "cell_type": "code",
   "execution_count": null,
   "id": "e6ee215b-9884-4552-a898-ce9fd14beda9",
   "metadata": {},
   "outputs": [],
   "source": []
  },
  {
   "cell_type": "code",
   "execution_count": null,
   "id": "0fbf14a6-d2c5-476f-b9b2-692500198b21",
   "metadata": {},
   "outputs": [],
   "source": []
  },
  {
   "cell_type": "code",
   "execution_count": null,
   "id": "21ea2c8e-391b-436e-bba3-3bebd9373a4f",
   "metadata": {},
   "outputs": [],
   "source": []
  },
  {
   "cell_type": "code",
   "execution_count": null,
   "id": "28c1f715-6d03-4a47-8102-b0b2ca651a0d",
   "metadata": {},
   "outputs": [],
   "source": []
  },
  {
   "cell_type": "code",
   "execution_count": null,
   "id": "3e9e5e1f-1e4a-4245-9962-20742790a140",
   "metadata": {},
   "outputs": [],
   "source": []
  },
  {
   "cell_type": "code",
   "execution_count": null,
   "id": "478b0824-d6a1-4970-892b-11cc433123d4",
   "metadata": {},
   "outputs": [],
   "source": []
  },
  {
   "cell_type": "code",
   "execution_count": null,
   "id": "907a9d73-b73f-4ffb-a504-040833272ca2",
   "metadata": {},
   "outputs": [],
   "source": []
  },
  {
   "cell_type": "code",
   "execution_count": null,
   "id": "944822ed-3bdb-4272-bf14-db6a51584bd3",
   "metadata": {},
   "outputs": [],
   "source": []
  }
 ],
 "metadata": {
  "kernelspec": {
   "display_name": "Python 3 (ipykernel)",
   "language": "python",
   "name": "python3"
  },
  "language_info": {
   "codemirror_mode": {
    "name": "ipython",
    "version": 3
   },
   "file_extension": ".py",
   "mimetype": "text/x-python",
   "name": "python",
   "nbconvert_exporter": "python",
   "pygments_lexer": "ipython3",
   "version": "3.10.11"
  }
 },
 "nbformat": 4,
 "nbformat_minor": 5
}
